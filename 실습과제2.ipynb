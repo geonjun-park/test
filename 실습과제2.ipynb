{
  "nbformat": 4,
  "nbformat_minor": 0,
  "metadata": {
    "colab": {
      "provenance": []
    },
    "kernelspec": {
      "name": "python3",
      "display_name": "Python 3"
    },
    "language_info": {
      "name": "python"
    }
  },
  "cells": [
    {
      "cell_type": "markdown",
      "source": [
        "# 실습과제 2\n",
        "2019113670 박건준"
      ],
      "metadata": {
        "id": "F0buWgqplthh"
      }
    },
    {
      "cell_type": "markdown",
      "source": [
        "# 첫번째 도전과제\n",
        "## `#day 48` 로또를 시뮬레이션 하는 코드\n",
        "\n",
        "로또(lotto)를 시뮬레이션하는 Python code를 작성해보자. 로또(lotto)를 구매하는 사용자를 가정하자. 그가 구매한 6개 번호를 입력으로 받아들이자. 유효한 번호를 입력할 수 있도록 유도하자. 가령 이미 입력한 번호와 같은 번호를 입력하거나 또는 범위 밖의 번호를 입력하지 않도록 검증하자. 로또 번호는 random 모듈을 이용하여 생성하자. 구매자가 몇 개의 번호를 맞췄는지 판별하고, 몇 등에 당첨되었는지 발표하자."
      ],
      "metadata": {
        "id": "j6JLtUnlW0Ix"
      }
    },
    {
      "cell_type": "markdown",
      "source": [
        "우선 random 함수를 추가합니다."
      ],
      "metadata": {
        "id": "pPw8Knx6a9j8"
      }
    },
    {
      "cell_type": "code",
      "execution_count": null,
      "metadata": {
        "colab": {
          "base_uri": "https://localhost:8080/"
        },
        "id": "P1wKvpdfV9EB",
        "outputId": "32dd39c0-011a-4b10-d45f-f1b1e1cc3bee"
      },
      "outputs": [
        {
          "output_type": "stream",
          "name": "stdout",
          "text": [
            "로또 번호를 입력(1~45), 현재 0개의 번호를 입력했습니다: 55\n",
            "범위 내의 값을 입력하세요.\n",
            "로또 번호를 입력(1~45), 현재 0개의 번호를 입력했습니다: 32\n",
            "로또 번호를 입력(1~45), 현재 1개의 번호를 입력했습니다: 12\n",
            "로또 번호를 입력(1~45), 현재 2개의 번호를 입력했습니다: 3\n",
            "로또 번호를 입력(1~45), 현재 3개의 번호를 입력했습니다: 4\n",
            "로또 번호를 입력(1~45), 현재 4개의 번호를 입력했습니다: 1\n",
            "로또 번호를 입력(1~45), 현재 5개의 번호를 입력했습니다: 67\n",
            "범위 내의 값을 입력하세요.\n",
            "로또 번호를 입력(1~45), 현재 5개의 번호를 입력했습니다: 32\n",
            "이미 입력한 번호입니다. 다른 값을 입력하세요.\n",
            "로또 번호를 입력(1~45), 현재 5개의 번호를 입력했습니다: 42\n",
            "사용자가 입력한 번호: [1, 3, 4, 12, 32, 42]\n",
            "추첨된 로또 번호: [9, 15, 33, 37, 43, 45]\n",
            "맞춘 번호: []\n",
            "아쉽게도 당첨되지 않았습니다.\n"
          ]
        }
      ],
      "source": [
        "import random\n",
        "lotto_numbers = [random.randint(1, 45) for i in range(6)]\n",
        "user_numbers = []\n",
        "while len(user_numbers) < 6:\n",
        "    num_ = int(input(f\"로또 번호를 입력(1~45), 현재 {len(user_numbers)}개의 번호를 입력했습니다: \"))\n",
        "    if num_ < 1 or num_ > 45:\n",
        "        print(\"범위 내의 값을 입력하세요.\")\n",
        "    elif num_ in user_numbers:\n",
        "        print(\"이미 입력한 번호입니다. 다른 값을 입력하세요.\")\n",
        "    else:\n",
        "        user_numbers.append(num_)\n",
        "print(\"사용자가 입력한 번호:\", sorted(user_numbers))\n",
        "print(\"추첨된 로또 번호:\", sorted(lotto_numbers))\n",
        "matching = set(user_numbers) & set(lotto_numbers)\n",
        "num_matching = len(matching)\n",
        "if num_matching == 6:\n",
        "    result = \"1등에 당첨되었습니다!\"\n",
        "elif num_matching == 5:\n",
        "    result = \"2등에 당첨되었습니다!\"\n",
        "elif num_matching == 4:\n",
        "    result = \"3등에 당첨되었습니다!\"\n",
        "elif num_matching == 3:\n",
        "    result = \"4등에 당첨되었습니다!\"\n",
        "elif num_matching == 2:\n",
        "    result = \"5등에 당첨되었습니다!\"\n",
        "else:\n",
        "    result = \"아쉽게도 당첨되지 않았습니다.\"\n",
        "print(f\"맞춘 번호: {sorted(matching)}\\n{result}\")"
      ]
    },
    {
      "cell_type": "markdown",
      "source": [
        "\n",
        "\n",
        "---\n",
        "\n",
        "## 세부 설명"
      ],
      "metadata": {
        "id": "Eqt4XRJ_UpoF"
      }
    },
    {
      "cell_type": "code",
      "source": [
        "import random\n",
        "lotto_numbers = [random.randint(1, 45) for i in range(6)]"
      ],
      "metadata": {
        "id": "iZKpgPfJUE1v"
      },
      "execution_count": 5,
      "outputs": []
    },
    {
      "cell_type": "markdown",
      "source": [
        "- random 모듈을 추가합니다.\n",
        "- 1~45 범위 까지의 랜덤값 6개를 lotto_numbers에 저장 합니다."
      ],
      "metadata": {
        "id": "Ta1NHPOMUu4S"
      }
    },
    {
      "cell_type": "code",
      "source": [
        "user_numbers = []\n",
        "while len(user_numbers) < 6:\n",
        "    num_ = int(input(f\"로또 번호를 입력(1~45), 현재 {len(user_numbers)}개의 번호를 입력했습니다: \"))\n",
        "    if num_ < 1 or num_ > 45:\n",
        "        print(\"범위 내의 값을 입력하세요.\")\n",
        "    elif num_ in user_numbers:\n",
        "        print(\"이미 입력한 번호입니다. 다른 값을 입력하세요.\")\n",
        "    else:\n",
        "        user_numbers.append(num_)"
      ],
      "metadata": {
        "colab": {
          "base_uri": "https://localhost:8080/"
        },
        "id": "KFhItldCUMwV",
        "outputId": "2a195c2f-aac1-4b59-a922-8898d3074679"
      },
      "execution_count": 2,
      "outputs": [
        {
          "name": "stdout",
          "output_type": "stream",
          "text": [
            "로또 번호를 입력(1~45), 현재 0개의 번호를 입력했습니다: 1\n",
            "로또 번호를 입력(1~45), 현재 1개의 번호를 입력했습니다: 3\n",
            "로또 번호를 입력(1~45), 현재 2개의 번호를 입력했습니다: 66\n",
            "범위 내의 값을 입력하세요.\n",
            "로또 번호를 입력(1~45), 현재 2개의 번호를 입력했습니다: 45\n",
            "로또 번호를 입력(1~45), 현재 3개의 번호를 입력했습니다: 35\n",
            "로또 번호를 입력(1~45), 현재 4개의 번호를 입력했습니다: 26\n",
            "로또 번호를 입력(1~45), 현재 5개의 번호를 입력했습니다: 22\n"
          ]
        }
      ]
    },
    {
      "cell_type": "markdown",
      "source": [
        "- user_numbers 라는 리스트를 만듭니다.\n",
        "- while 문을 통해서 사용자로 부터 6개의 숫자를 조건에 따라 입력 받습니다.\n",
        "  - 1~45 사이의 값을 입력 받도록 코드를 구성합니다\n",
        "  - `num_ in user_numbers` 구문을 이용해서 중복되는 값을 확인합니다.\n",
        "- 해당 사항이 없으면 선언된 리스트에 num_ 값을 추가합니다(.append)"
      ],
      "metadata": {
        "id": "kRiMbDUJVTc7"
      }
    },
    {
      "cell_type": "code",
      "source": [
        "print(\"사용자가 입력한 번호:\", sorted(user_numbers))\n",
        "print(\"추첨된 로또 번호:\", sorted(lotto_numbers))"
      ],
      "metadata": {
        "colab": {
          "base_uri": "https://localhost:8080/"
        },
        "id": "WyTMgp1AUfAc",
        "outputId": "be17e8f3-2b19-46b0-f8bc-56a4e8ae9a5b"
      },
      "execution_count": 3,
      "outputs": [
        {
          "output_type": "stream",
          "name": "stdout",
          "text": [
            "사용자가 입력한 번호: [1, 3, 22, 26, 35, 45]\n",
            "추첨된 로또 번호: [14, 17, 18, 20, 24, 41]\n"
          ]
        }
      ]
    },
    {
      "cell_type": "markdown",
      "source": [
        "- 사용자가 입력한 번호와 random 으로 추출된 6개의 값을 출력해 보여줍니다."
      ],
      "metadata": {
        "id": "sPbiIA_gV1CO"
      }
    },
    {
      "cell_type": "code",
      "source": [
        "matching = set(user_numbers) & set(lotto_numbers)\n",
        "num_matching = len(matching)\n",
        "if num_matching == 6:\n",
        "    result = \"1등에 당첨되었습니다!\"\n",
        "elif num_matching == 5:\n",
        "    result = \"2등에 당첨되었습니다!\"\n",
        "elif num_matching == 4:\n",
        "    result = \"3등에 당첨되었습니다!\"\n",
        "elif num_matching == 3:\n",
        "    result = \"4등에 당첨되었습니다!\"\n",
        "elif num_matching == 2:\n",
        "    result = \"5등에 당첨되었습니다!\"\n",
        "else:\n",
        "    result = \"아쉽게도 당첨되지 않았습니다.\"\n",
        "print(f\"맞춘 번호: {sorted(matching)}\\n{result}\")"
      ],
      "metadata": {
        "colab": {
          "base_uri": "https://localhost:8080/"
        },
        "id": "nEHhE86NUlEo",
        "outputId": "1d8c7613-7771-4856-f9a2-c7e0f1c29dd9"
      },
      "execution_count": 4,
      "outputs": [
        {
          "output_type": "stream",
          "name": "stdout",
          "text": [
            "맞춘 번호: []\n",
            "아쉽게도 당첨되지 않았습니다.\n"
          ]
        }
      ]
    },
    {
      "cell_type": "markdown",
      "source": [
        "- 몇개의 문자를 맞추었는지 검증하는 코드 입니다.\n",
        "\n",
        "  - set(user_numbers): 사용자가 선택한 번호들의 집합을 만듭니다.\n",
        "  - set(lotto_numbers): 로또 당첨 번호들의 집합을 만듭니다.\n",
        "  - &: 집합 연산자 중 하나로, 두 집합의 교집합을 구합니다. 교집합은 두 집합에 모두 포함된 원소들로 이루어진 집합입니다.\n",
        "\n",
        "- 즉, matching = set(user_numbers) & set(lotto_numbers) 는 사용자가 선택한 번호들 중에서 로또 당첨 번호들과 일치하는 번호들을 찾아내어 matching 이라는 변수에 저장합니다."
      ],
      "metadata": {
        "id": "LuA96YH2WGNW"
      }
    },
    {
      "cell_type": "markdown",
      "source": [
        "\n",
        "\n",
        "---\n",
        "\n",
        "\n",
        "# 두번째 도전과제\n",
        "\n",
        "## `#day 47` map() filter() 함수를 이용하기\n",
        "\n",
        "map( ) 과 filter( )을 사용하여서 [1, 2, 3, 4, 5, 6, 7, 8, 9, 10] 중에서 짝수의 제곱으로 새로운 리스트를 만드는 Python 코드를 작성해보자."
      ],
      "metadata": {
        "id": "yqF6r1U0YB0n"
      }
    },
    {
      "cell_type": "code",
      "source": [
        "num_list= [1,2,3,4,5,6,7,8,9,10]"
      ],
      "metadata": {
        "id": "DqvgYg6qYGzc"
      },
      "execution_count": 11,
      "outputs": []
    },
    {
      "cell_type": "code",
      "source": [
        "list_temp = list(filter((lambda x :x%2==0),num_list))"
      ],
      "metadata": {
        "id": "5DmPrzteZRbD"
      },
      "execution_count": 12,
      "outputs": []
    },
    {
      "cell_type": "markdown",
      "source": [
        "### filter(함수, 리스트)\n",
        "- 리스트의 요소를 함수에 넣고 리턴된 값이 True인 것으로, 새로운 리스트를 구성해주는 함수"
      ],
      "metadata": {
        "id": "JOpzV1mJZb0i"
      }
    },
    {
      "cell_type": "markdown",
      "source": [
        "- lambda 함수: 입력 값 x가 짝수인지 여부를 판별합니다. 짝수이면 True를 반환하고, 홀수이면 False를 반환합니다.\n",
        "\n",
        "- list 함수: filter 함수는 필터링된 요소들의 필터 객체를 반환하는데, 이를 리스트로 변환하기 위해 list() 함수를 사용합니다."
      ],
      "metadata": {
        "id": "4Z3FcOkgkJA4"
      }
    },
    {
      "cell_type": "code",
      "source": [
        "new_list = list(map((lambda x:x**2),list_temp))"
      ],
      "metadata": {
        "id": "OAoMG82WZTMO"
      },
      "execution_count": 13,
      "outputs": []
    },
    {
      "cell_type": "markdown",
      "source": [
        "### map(함수, 리스트)\n",
        "- 리스트의 요소를 함수에 넣고 리턴된 값으로 새로운 리스트를 구성해 주는 함수\n"
      ],
      "metadata": {
        "id": "Wp5j2208Zc7z"
      }
    },
    {
      "cell_type": "markdown",
      "source": [
        "- lambda 함수: 입력 값 x를 제곱하여 반환합니다."
      ],
      "metadata": {
        "id": "QqSYpAmpklOU"
      }
    },
    {
      "cell_type": "code",
      "source": [
        "print(new_list)"
      ],
      "metadata": {
        "colab": {
          "base_uri": "https://localhost:8080/"
        },
        "id": "HljmkU0zZVHH",
        "outputId": "f46de015-53e7-4cc4-84eb-5a52577e2850"
      },
      "execution_count": 14,
      "outputs": [
        {
          "output_type": "stream",
          "name": "stdout",
          "text": [
            "[4, 16, 36, 64, 100]\n"
          ]
        }
      ]
    },
    {
      "cell_type": "markdown",
      "source": [
        "\n",
        "\n",
        "---\n",
        "\n",
        "\n",
        "# 세번째 도전과제\n",
        "\n",
        "## `day 53` 소인수 분해 함수 구현하기\n",
        "\n",
        "소인수분해란 어떤 수를 소수들의 곱으로 표현하는 것입니다. 예를 들어 12를 소인수 분해하면 2 * 2 * 3 으로 나타낼 수 있습니다. 따라서 12의 소인수는 2와 3입니다. 자연수 n이 매개변수로 주어질 때 n의 소인수를 오름차순으로 담은 배열을 return하도록 solution 함수를 완성해주세요."
      ],
      "metadata": {
        "id": "fTHmJcgDYHQY"
      }
    },
    {
      "cell_type": "markdown",
      "source": [
        "### solution 함수를 구현 합니다.\n"
      ],
      "metadata": {
        "id": "x3MEKH8pjLMZ"
      }
    },
    {
      "cell_type": "code",
      "source": [
        "def solution(n):\n",
        "    factors = []\n",
        "    d_factor = 2\n",
        "    while n > 1:\n",
        "        while n % d_factor == 0:\n",
        "            factors.append(d_factor)\n",
        "            n //= d_factor\n",
        "        d_factor += 1\n",
        "    return factors"
      ],
      "metadata": {
        "id": "Jcsysy5iid7Q"
      },
      "execution_count": 7,
      "outputs": []
    },
    {
      "cell_type": "markdown",
      "source": [
        "숫자를 입력 받고 그것을 변수에 담아서 solution 함수를 이용해서 출력합니다.\n",
        "1. n이 d_factor로 나누어 떨어지는지 확인합니다. 나누어 떨어진다면, n % d_factor는 0이 됩니다.\n",
        "2. n이 d_factor로 나누어 떨어지면, d_factor는 n의 인수임을 의미합니다.\n",
        "이 인수를 factors 리스트에 추가합니다.\n",
        "3.\n",
        "n을 d_factor로 나눈 몫으로 업데이트합니다.\n",
        "이는 n에서 d_factor를 제거하는 과정입니다. n을 d_factor로 나누면서 계속해서 인수를 제거합니다.\n",
        "\n",
        "현재의 d_factor가 더 이상 n의 인수가 아닐 때, d_factor를 증가시켜 다음 인수를 검사합니다."
      ],
      "metadata": {
        "id": "W1Pi33UUi_JO"
      }
    },
    {
      "cell_type": "code",
      "source": [
        "n=int(input(\"자연수 입력: \"))\n",
        "print(solution(n))"
      ],
      "metadata": {
        "id": "kCUJyKCui8m0",
        "colab": {
          "base_uri": "https://localhost:8080/"
        },
        "outputId": "064876af-8313-4898-c070-d14619da15d3"
      },
      "execution_count": 10,
      "outputs": [
        {
          "output_type": "stream",
          "name": "stdout",
          "text": [
            "자연수 입력: 32\n",
            "[2, 2, 2, 2, 2]\n"
          ]
        }
      ]
    },
    {
      "cell_type": "markdown",
      "source": [
        "값을 입력받고 solution 함수를 불러와서 인수를 리스트 형태로 출력합니다."
      ],
      "metadata": {
        "id": "876FDMidi8S9"
      }
    }
  ]
}