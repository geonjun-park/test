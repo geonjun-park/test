{
  "nbformat": 4,
  "nbformat_minor": 0,
  "metadata": {
    "colab": {
      "provenance": []
    },
    "kernelspec": {
      "name": "python3",
      "display_name": "Python 3"
    },
    "language_info": {
      "name": "python"
    }
  },
  "cells": [
    {
      "cell_type": "markdown",
      "source": [
        "# 실습과제 3\n",
        "\n",
        "### 2019113670 박건준\n",
        "\n",
        "1. 두 개의 자연수를 입력 받아서 나눗셈을 하는 Python code 를 작성한다.\n",
        "2. Python code는 Jupyter notebook 파일로 만든다.\n",
        "3. 입력 오류, 계산 오류에 대한 예외처리를 구현한다.\n"
      ],
      "metadata": {
        "id": "aOCWVYUfxPlM"
      }
    },
    {
      "cell_type": "markdown",
      "source": [
        "## 전체 코드"
      ],
      "metadata": {
        "id": "u5BX92sVPExb"
      }
    },
    {
      "cell_type": "code",
      "execution_count": 1,
      "metadata": {
        "id": "6D4KvFtWxFOi",
        "colab": {
          "base_uri": "https://localhost:8080/"
        },
        "outputId": "529ef84c-f5f1-4852-da7c-a846edfaa200"
      },
      "outputs": [
        {
          "output_type": "stream",
          "name": "stdout",
          "text": [
            "나눗셈 할 숫자 2개를 입력해주세요:  12 9\n",
            "12 / 9 = 1.3333333333333333\n",
            "calculation is complete\n"
          ]
        }
      ],
      "source": [
        "try:\n",
        "    # 입력 오류 처리\n",
        "    a, b = map(int, input(\"나눗셈 할 숫자 2개를 입력해주세요: \").split())\n",
        "except:\n",
        "    print('숫자 입력해 주세요.')\n",
        "else:\n",
        "    # 문제 없이 입력이 되면 else 문을 통해 계산을 진행 합니다.\n",
        "    try:\n",
        "        # 계산 오류 처리\n",
        "        c = a / b\n",
        "    except:\n",
        "        print('0으로 나눌 수 없습니다. 다른 숫자를 입력해 주세요.')\n",
        "    else:\n",
        "        try:\n",
        "          print(f'{a} / {b} = {c}')\n",
        "        finally:\n",
        "          #계산을 하는 경우에만 출력\n",
        "          print(\"calculation is complete\")\n"
      ]
    },
    {
      "cell_type": "markdown",
      "source": [
        "\n",
        "\n",
        "---\n",
        "\n",
        "\n",
        "## 세부 설명"
      ],
      "metadata": {
        "id": "0WwvFnHwPG2f"
      }
    },
    {
      "cell_type": "code",
      "source": [
        "try:\n",
        "    # 입력 오류 처리\n",
        "    a, b = map(int, input(\"나눗셈 할 숫자 2개를 입력해주세요: \").split())\n",
        "except:\n",
        "    print('숫자를 입력해 주세요.')\n"
      ],
      "metadata": {
        "colab": {
          "base_uri": "https://localhost:8080/"
        },
        "collapsed": true,
        "id": "wHkiWCLdPIn3",
        "outputId": "faf7e15c-61f3-4343-aae0-bc4371d8ed9e"
      },
      "execution_count": 3,
      "outputs": [
        {
          "output_type": "stream",
          "name": "stdout",
          "text": [
            "나눗셈 할 숫자 2개를 입력해주세요: 12 'a'\n",
            "숫자 입력해 주세요.\n"
          ]
        }
      ]
    },
    {
      "cell_type": "markdown",
      "source": [
        "- 여기서는 입력한 값의 오류를 처리하는 구문이 된다.\n",
        "### Test Case\n",
        "> 12 'a'\n",
        "- 숫자 + 문자를 입력 받는 경우\n",
        "- '숫자를 입력해 주세요.' 라는 문구가 출력이 된다.\n"
      ],
      "metadata": {
        "id": "r2g-ImZ2PPAM"
      }
    },
    {
      "cell_type": "code",
      "source": [
        "    try:\n",
        "# 계산 오류 처리\n",
        "        c = a / b\n",
        "    except:\n",
        "        print('0으로 나눌 수 없습니다. 다른 숫자를 입력해 주세요.')"
      ],
      "metadata": {
        "id": "0UT5_EGsQDAr"
      },
      "execution_count": 4,
      "outputs": []
    },
    {
      "cell_type": "markdown",
      "source": [
        "- 여기서는 문제 없이 숫자 2개가 입력된 경우에 대해서 계산 오류를 처리하는 과정이다.\n",
        "### Test Case\n",
        "> 12 0\n",
        "- 오류가 발생하여 except 아래에 적힌 문구가 출력될 것이다."
      ],
      "metadata": {
        "id": "cr-Q5vNuQCv1"
      }
    },
    {
      "cell_type": "code",
      "source": [
        "        try:\n",
        "          print(f'{a} / {b} = {c}')\n",
        "        finally:\n",
        "          #정상적으로 계산을 하는 경우에만 출력\n",
        "          print(\"calculation is complete\")"
      ],
      "metadata": {
        "id": "UFh_UinERA_v"
      },
      "execution_count": null,
      "outputs": []
    },
    {
      "cell_type": "markdown",
      "source": [
        "1. 입력한 값에 오류가 없고\n",
        "2. 계산에 오류가 없는 경우에\n",
        "\n",
        "try문 아래에 있는 출력을 담당하는 문구가 c의 값을 받아서 출력하고\n",
        "finally 문 아래에 있는 step 1&2 조건을 모두 만족하고, 계산된 경우에 'calculation is complete' 라는 문장을 마지막에 출력한다."
      ],
      "metadata": {
        "id": "CSD2jn2IRDct"
      }
    }
  ]
}