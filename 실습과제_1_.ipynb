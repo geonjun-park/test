{
  "nbformat": 4,
  "nbformat_minor": 0,
  "metadata": {
    "colab": {
      "provenance": []
    },
    "kernelspec": {
      "name": "python3",
      "display_name": "Python 3"
    },
    "language_info": {
      "name": "python"
    }
  },
  "cells": [
    {
      "cell_type": "markdown",
      "source": [
        "# 실습과제 1\n",
        "\n",
        "1. 아래의 과제를 풀고 Python code로 작성하세요.\n",
        " https://school.programmers.co.kr/learn/courses/30/lessons/12977 (외부 사이트로 연결합니다.)\n",
        "2. GitHub 개인 계정에 결과를 올리되, markdown language 를 사용하여 코드를 설명하세요.\n",
        "3. GitHub link를 LMS 에 올려주세요."
      ],
      "metadata": {
        "id": "HKSe-mF0HTRC"
      }
    },
    {
      "cell_type": "markdown",
      "source": [
        "### 문제 설명\n",
        "주어진 숫자 중 3개의 수를 더했을 때 소수가 되는 경우의 개수를 구하려고 합니다. 숫자들이 들어있는 배열 nums가 매개변수로 주어질 때, nums에 있는 숫자들 중 서로 다른 3개를 골라 더했을 때 소수가 되는 경우의 개수를 return 하도록 solution 함수를 완성해주세요.\n",
        "\n",
        "- 제한사항\n",
        "1. nums에 들어있는 숫자의 개수는 3개 이상 50개 이하입니다.\n",
        "2. nums의 각 원소는 1 이상 1,000 이하의 자연수이며, 중복된 숫자가 들어있지 않습니다."
      ],
      "metadata": {
        "id": "FdV4ynbUIYGH"
      }
    },
    {
      "cell_type": "code",
      "source": [
        "from itertools import combinations\n",
        "\n",
        "def is_prime(n):\n",
        "    if n < 2:\n",
        "        return False\n",
        "    for i in range(2, int(n**0.5) + 1):\n",
        "        if n % i == 0:\n",
        "            return False\n",
        "    return True\n",
        "\n",
        "def solution(nums):\n",
        "   #3개의 수를 더해 소수가 되는 경우의 수를 반환하는 함수\n",
        "    count = 0\n",
        "\n",
        "    for comb in combinations(nums, 3):\n",
        "        if is_prime(sum(comb)):\n",
        "            count += 1\n",
        "    return count\n",
        "\n",
        "nums = [1, 2, 3, 4, 5, 6, 7, 8, 9, 10]\n",
        "print(solution(nums))  # 예시 출력\n"
      ],
      "metadata": {
        "colab": {
          "base_uri": "https://localhost:8080/"
        },
        "id": "AeZn1dzfOk7k",
        "outputId": "add0b06f-9058-4641-b1da-c4b64673de81"
      },
      "execution_count": 14,
      "outputs": [
        {
          "output_type": "stream",
          "name": "stdout",
          "text": [
            "37\n"
          ]
        }
      ]
    },
    {
      "cell_type": "markdown",
      "source": [
        "# 풀이과정\n",
        "\n",
        "###1. 소수를 찾는 함수 구현하기\n",
        "- 2부터 x의 제곱근까지의 숫자\n",
        "- 나눠떨어지는 숫자가 있으면 소수가 아님"
      ],
      "metadata": {
        "id": "pYFw9AjyP13b"
      }
    },
    {
      "cell_type": "code",
      "source": [
        "def is_prime_number(nums):\n",
        "    if nums < 2:\n",
        "        return False\n",
        "    for i in range(2, int(nums ** 0.5) + 1):\n",
        "        if nums % i == 0:\n",
        "            return False\n",
        "    return True\n",
        "\n",
        "nums = int(input(\"enter number: \"))\n",
        "\n",
        "print(is_prime_number(nums))"
      ],
      "metadata": {
        "id": "6xwQp-ecPgeY"
      },
      "execution_count": null,
      "outputs": []
    },
    {
      "cell_type": "markdown",
      "source": [
        "###2. solution 함수 구현하기\n",
        "- 3개의 수를 더해 소수가 되는 경우의 수를 반환하는 함수\n",
        "- itertools 라이브러리가 제공하는 함수 combinations(iterable, r) 이용\n",
        "  - 위에서 구현한 '소수찾기' 함수를 이용하기\n",
        "  - sum 함수를 이용해서 comb 값 더하기\n",
        "  - 소수일 경우 count 1 하기"
      ],
      "metadata": {
        "id": "Oe3ksbE0QU2_"
      }
    },
    {
      "cell_type": "code",
      "source": [
        "def solution(nums):\n",
        "   #3개의 수를 더해 소수가 되는 경우의 수를 반환하는 함수\n",
        "    count = 0\n",
        "\n",
        "    for comb in combinations(nums, 3):\n",
        "        if is_prime(sum(comb)):\n",
        "            count += 1\n",
        "    return count"
      ],
      "metadata": {
        "id": "Lgx2sqIwQr3h"
      },
      "execution_count": null,
      "outputs": []
    }
  ]
}